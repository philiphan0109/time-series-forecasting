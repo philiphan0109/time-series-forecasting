{
 "cells": [
  {
   "cell_type": "code",
   "execution_count": 12,
   "metadata": {},
   "outputs": [],
   "source": [
    "import pandas as pd\n",
    "import os\n",
    "\n",
    "from model import Transformer # this is the transformer.py file\n",
    "import torch\n",
    "from torch import nn\n",
    "import numpy as np"
   ]
  },
  {
   "cell_type": "code",
   "execution_count": 13,
   "metadata": {},
   "outputs": [],
   "source": [
    "# Data preprocessing\n",
    "\n",
    "from data_processing import process_file\n",
    "\n",
    "data_path = \"data/\"\n",
    "\n",
    "all_data = pd.DataFrame()\n",
    "\n",
    "for file in os.listdir(data_path):\n",
    "    if file.endswith(\".txt\"):\n",
    "        file_path = os.path.join(data_path, file)\n",
    "        loc_df = process_file(file_path)\n",
    "\n",
    "    # print(file, len(loc_df))\n",
    "    if len(all_data) == 0:\n",
    "        all_data = loc_df\n",
    "    else:\n",
    "        all_data = pd.merge(all_data, loc_df, on = [\"year\", \"month\"])\n",
    "\n",
    "all_data.to_csv(\"data/processed_data.csv\")"
   ]
  },
  {
   "cell_type": "code",
   "execution_count": 14,
   "metadata": {},
   "outputs": [
    {
     "name": "stdout",
     "output_type": "stream",
     "text": [
      "# of segments: 132\n",
      "Length of each input vector (months): 120\n",
      "Length of each target vector (months): 12\n",
      "\n",
      "Tensor Lengths:\n",
      "There are 132 input tensors and 132 target tensors\n",
      "Input tensors length: 120\n",
      "Target tensors length: 12\n"
     ]
    }
   ],
   "source": [
    "from data_processing import create_segments\n",
    "\n",
    "input_years = 10  # Length of input period in years\n",
    "target_years = 1   # Length of target period in years\n",
    "\n",
    "input_segments, target_segments = create_segments(all_data, input_years, target_years)\n",
    "\n",
    "print(\"# of segments:\", len(input_segments))\n",
    "print(\"Length of each input vector (months):\", len(input_segments[0]))\n",
    "print(\"Length of each target vector (months):\", len(target_segments[0]))\n",
    "\n",
    "# Convert to tensors\n",
    "feature_columns = all_data.columns.difference(['year', 'month'])\n",
    "input_tensors = torch.tensor([df[feature_columns].values for df in input_segments], dtype=torch.float32)\n",
    "target_tensors = torch.tensor([df[feature_columns].values for df in target_segments], dtype=torch.float32)\n",
    "\n",
    "# Print tensor lengths\n",
    "print(\"\\nTensor Lengths:\")\n",
    "print(f\"There are {len(input_tensors)} input tensors and {len(target_tensors)} target tensors\")\n",
    "print(f\"Input tensors length: {len(input_tensors[0])}\")\n",
    "print(f\"Target tensors length: {len(target_tensors[0])}\")\n"
   ]
  },
  {
   "cell_type": "code",
   "execution_count": 22,
   "metadata": {},
   "outputs": [
    {
     "name": "stdout",
     "output_type": "stream",
     "text": [
      "Train Loader Length: 13\n",
      "Validation Loader Length: 3\n",
      "Input batch shape: torch.Size([8, 120, 15])\n",
      "Target batch shape: torch.Size([8, 12, 15])\n"
     ]
    }
   ],
   "source": [
    "from dataset import TimeSeriesDataset\n",
    "from torch.utils.data import DataLoader, random_split\n",
    "batch_size = 8\n",
    "\n",
    "ts_dataset = TimeSeriesDataset(input_tensors, target_tensors)\n",
    "train_size = int(0.6 * len(ts_dataset))  # e.g., 70% of data for training\n",
    "val_size = int(0.2 * len(ts_dataset))  # 20% of data for validation \n",
    "test_size = len(ts_dataset) - train_size - val_size  # Remaining for testing\n",
    "\n",
    "# Randomly split the dataset into training and validation datasets\n",
    "train_dataset, val_dataset, test_dataset = random_split(ts_dataset, [train_size, val_size, test_size])\n",
    "\n",
    "# Create DataLoaders for both training and validation sets\n",
    "train_loader = DataLoader(train_dataset, batch_size=batch_size, shuffle=True)\n",
    "val_loader = DataLoader(val_dataset, batch_size=batch_size, shuffle=False)  # Usually, no need to shuffle the validation set\n",
    "test_loader = DataLoader(test_dataset, batch_size=batch_size, shuffle=True)\n",
    "\n",
    "print(f\"Train Loader Length: {len(train_loader)}\")\n",
    "print(f\"Validation Loader Length: {len(val_loader)}\")\n",
    "\n",
    "input_batch, target_batch = next(iter(train_loader))\n",
    "\n",
    "# Print the shapes\n",
    "print(f'Input batch shape: {input_batch.shape}')  # e.g., torch.Size([8, 120, 15])\n",
    "print(f'Target batch shape: {target_batch.shape}')  # e.g., torch.Size([8, 12, 15])"
   ]
  },
  {
   "cell_type": "markdown",
   "metadata": {},
   "source": [
    "#### Model"
   ]
  },
  {
   "cell_type": "code",
   "execution_count": 20,
   "metadata": {},
   "outputs": [],
   "source": [
    "# Hyperparameters\n",
    "\n",
    "d_model = 15\n",
    "ffn_hidden = 2048\n",
    "num_heads = 5\n",
    "drop_prob = 0.1\n",
    "num_layers = 1\n",
    "\n",
    "transformer = Transformer(d_model, ffn_hidden, num_heads, drop_prob, num_layers)\n",
    "\n",
    "criterion = nn.MSELoss()\n",
    "optimizer = torch.optim.AdamW(params=transformer.parameters(), lr = 1e-3)"
   ]
  },
  {
   "cell_type": "code",
   "execution_count": 21,
   "metadata": {},
   "outputs": [
    {
     "name": "stdout",
     "output_type": "stream",
     "text": [
      "Epoch 20/100 | Train Loss: 0.0330 | Validation Loss: 0.0170\n",
      "Epoch 40/100 | Train Loss: 0.0208 | Validation Loss: 0.0148\n",
      "Epoch 60/100 | Train Loss: 0.0146 | Validation Loss: 0.0134\n",
      "Epoch 80/100 | Train Loss: 0.0125 | Validation Loss: 0.0111\n",
      "Epoch 100/100 | Train Loss: 0.0098 | Validation Loss: 0.0087\n"
     ]
    }
   ],
   "source": [
    "\n",
    "def train_model(model, epochs, save_freq = 20):\n",
    "    for epoch in range(1, epochs+1):\n",
    "        \n",
    "        model.train()\n",
    "        train_loss = 0\n",
    "\n",
    "        for input_batch, target_batch in train_loader:\n",
    "            optimizer.zero_grad()\n",
    "\n",
    "            logits_batch = model(input_batch, target_batch)\n",
    "            \n",
    "            loss = criterion(logits_batch, target_batch)\n",
    "            loss.backward()\n",
    "\n",
    "            optimizer.step()\n",
    "\n",
    "            train_loss += loss.item()\n",
    "            \n",
    "        # Calculate average loss for the epoch\n",
    "        train_loss /= len(train_loader)\n",
    "\n",
    "        model.eval()\n",
    "\n",
    "        val_loss = 0\n",
    "        with torch.inference_mode():\n",
    "            for input_batch, target_batch in val_loader:\n",
    "\n",
    "                # Forward pass\n",
    "                logits_batch = model(input_batch, target_batch)\n",
    "\n",
    "                # Calculate loss\n",
    "                loss = criterion(logits_batch, target_batch)\n",
    "\n",
    "                val_loss += loss.item()\n",
    "            \n",
    "        val_loss /= len(val_loader)\n",
    "        \n",
    "        # Print epoch stats\n",
    "        if(epoch % save_freq == 0):\n",
    "            print(f'Epoch {epoch}/{epochs} | Train Loss: {train_loss:.4f} | Validation Loss: {val_loss:.4f}')\n",
    "            torch.save(model.state_dict(), f'saved_models/transformer_epoch_{epoch+1}.pt')\n",
    "\n",
    "train_model(transformer, 100, 20)"
   ]
  },
  {
   "cell_type": "code",
   "execution_count": null,
   "metadata": {},
   "outputs": [],
   "source": [
    "def test_model(model, test_loader, criterion, device):\n",
    "    model.eval()\n",
    "    test_loss = 0\n",
    "    all_predictions = []\n",
    "    all_targets = []\n",
    "\n",
    "    with torch.no_grad():\n",
    "        for input_batch, target_batch in test_loader:\n",
    "            input_batch, target_batch = input_batch.to(device), target_batch.to(device)\n",
    "\n",
    "            logits_batch = model(input_batch, target_batch)\n",
    "            loss = criterion(logits_batch, target_batch)\n",
    "            test_loss += loss.item()\n",
    "\n",
    "            all_predictions.extend(logits_batch.cpu())\n",
    "            all_targets.extend(target_batch.cpu())\n",
    "\n",
    "    test_loss /= len(test_loader)\n",
    "\n",
    "    return test_loss, all_predictions, all_targets\n"
   ]
  },
  {
   "cell_type": "code",
   "execution_count": null,
   "metadata": {},
   "outputs": [],
   "source": []
  }
 ],
 "metadata": {
  "kernelspec": {
   "display_name": "3.10",
   "language": "python",
   "name": "python3"
  },
  "language_info": {
   "codemirror_mode": {
    "name": "ipython",
    "version": 3
   },
   "file_extension": ".py",
   "mimetype": "text/x-python",
   "name": "python",
   "nbconvert_exporter": "python",
   "pygments_lexer": "ipython3",
   "version": "3.10.13"
  }
 },
 "nbformat": 4,
 "nbformat_minor": 2
}
