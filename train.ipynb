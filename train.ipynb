{
 "cells": [
  {
   "cell_type": "code",
   "execution_count": 37,
   "metadata": {},
   "outputs": [],
   "source": [
    "import pandas as pd\n",
    "import os\n",
    "\n",
    "import numpy as np\n",
    "import torch\n",
    "from torch import nn\n",
    "import math\n",
    "from torch.nn import TransformerEncoder, TransformerEncoderLayer"
   ]
  },
  {
   "cell_type": "code",
   "execution_count": 38,
   "metadata": {},
   "outputs": [],
   "source": [
    "# Data preprocessing\n",
    "\n",
    "def process_file(path):\n",
    "    df = pd.read_csv(path, delim_whitespace=True, header=None)\n",
    "    loc = path.split('.')[3] + path.split('.')[4]\n",
    "\n",
    "    df.columns = [\n",
    "        'year', 'month', f'temp_anomaly_{loc}', f'total_error_var_{loc}', f'high_freq_error_var_{loc}',\n",
    "        f'low_freq_error_var_{loc}', f'bias_error_var_{loc}', f'diag_var1_{loc}', f'diag_var2_{loc}', f'diag_var3_{loc}'\n",
    "    ]\n",
    "\n",
    "    df = df.drop(columns=[f'diag_var1_{loc}', f'diag_var2_{loc}', f'diag_var3_{loc}', f'total_error_var_{loc}', f'high_freq_error_var_{loc}',\n",
    "        f'low_freq_error_var_{loc}', f'bias_error_var_{loc}'])\n",
    "\n",
    "    return df\n",
    "\n",
    "data_path = \"data/\"\n",
    "\n",
    "all_data = pd.DataFrame()\n",
    "\n",
    "for file in os.listdir(data_path):\n",
    "    if file.endswith(\".txt\"):\n",
    "        file_path = os.path.join(data_path, file)\n",
    "        loc_df = process_file(file_path)\n",
    "\n",
    "\n",
    "    # print(file, len(loc_df))\n",
    "    if len(all_data) == 0:\n",
    "        all_data = loc_df\n",
    "    else:\n",
    "        all_data = pd.merge(all_data, loc_df, on = [\"year\", \"month\"])"
   ]
  },
  {
   "cell_type": "code",
   "execution_count": 120,
   "metadata": {},
   "outputs": [
    {
     "name": "stdout",
     "output_type": "stream",
     "text": [
      "Length of each segment: (132, 17)\n",
      "# of segments: 13\n",
      "\n",
      "Length of each input vector (120 months / 10 years): 120\n",
      "Length of each target vector (12 months / 1 year): 12\n",
      "\n",
      "Use 120 months to predict 12 months\n"
     ]
    }
   ],
   "source": [
    "segments = []\n",
    "start_year = all_data['year'].min()\n",
    "end_year = all_data['year'].max()\n",
    "\n",
    "for year in range(start_year, end_year, 11):\n",
    "    # print(\"start year: \", year)\n",
    "    # Get the subset of data for the current 11-year segment\n",
    "    segment_end = min(year + 11, end_year + 1)  # Ensure we don't go beyond the last year\n",
    "    # print(\"end_year: \", segment_end)\n",
    "    segment_df = all_data[(all_data['year'] >= year) & (all_data['year'] < segment_end)]\n",
    "    \n",
    "    if not segment_df.empty:\n",
    "        segments.append(segment_df)\n",
    "\n",
    "# Each element (13 elements) in segment is a segment of 11 years or 132 months - which is the dimension of each segment\n",
    "print(\"Length of each segment:\", segments[0].shape)\n",
    "print(\"# of segments:\", len(segments))\n",
    "\n",
    "input_data = []\n",
    "target_data = []\n",
    "\n",
    "feature_columns = all_data.columns.difference(['year', 'month'])\n",
    "\n",
    "for segment in segments:\n",
    "    # Extract 10 years of data as input\n",
    "    input_years = segment[:120]\n",
    "    input_data.append(input_years)\n",
    "\n",
    "    # Extract the 11th year's data as target\n",
    "    target_year = segment[120:132]\n",
    "    target_data.append(target_year)\n",
    "\n",
    "# In input_data, there are 13 elements, corresponding to the 13 segments of 10 years which is the input. \n",
    "\n",
    "print(\"\\nLength of each input vector (120 months / 10 years):\", len(input_data[0]))\n",
    "print(\"Length of each target vector (12 months / 1 year):\", len(target_data[0]))\n",
    "\n",
    "print(f\"\\nUse {len(input_data[0])} months to predict {len(target_data[0])} months\")\n",
    "\n",
    "# Flatten each DataFrame into a 1D array and store in new lists\n",
    "flattened_input_data = [df[feature_columns].values.flatten() for df in input_data]\n",
    "flattened_target_data = [df[feature_columns].values.flatten() for df in target_data]"
   ]
  },
  {
   "cell_type": "markdown",
   "metadata": {},
   "source": [
    "### Model Components"
   ]
  },
  {
   "cell_type": "code",
   "execution_count": 5,
   "metadata": {},
   "outputs": [],
   "source": [
    "# Positional Encoding Block\n",
    "\n",
    "class PositionalEncoding(nn.Module):\n",
    "    def __init__(self, d_model: int, dropout: float = 0.1, max_len: int = 5000):\n",
    "        super().__init__()\n",
    "        self.dropout = nn.Dropout(p=dropout)\n",
    "\n",
    "        position = torch.arange(max_len).unsqueeze(1)\n",
    "        div_term = torch.exp(torch.arange(0, d_model, 2) * (-math.log(10000.0) / d_model))\n",
    "        pe = torch.zeros(max_len, 1, d_model)\n",
    "        pe[:, 0, 0::2] = torch.sin(position * div_term)\n",
    "        pe[:, 0, 1::2] = torch.cos(position * div_term)\n",
    "        self.register_buffer('pe', pe)\n",
    "\n",
    "    def forward(self, x):\n",
    "        x = x + self.pe[:x.size(0)]\n",
    "        return self.dropout(x)"
   ]
  },
  {
   "cell_type": "code",
   "execution_count": 7,
   "metadata": {},
   "outputs": [],
   "source": [
    "# Transformer Model\n",
    "\n",
    "class TransformerModel(nn.Module):\n",
    "\n",
    "    def __init__(self, ntoken: int, d_model: int, nhead: int, d_hid: int, nlayers: int, dropout: float = 0.5):\n",
    "        super().__init__()\n",
    "        self.model_type = 'Transformer'\n",
    "        self.pos_encoder = PositionalEncoding(d_model, dropout)\n",
    "        encoder_layers = TransformerEncoderLayer(d_model, nhead, d_hid, dropout)\n",
    "        self.transformer_encoder = TransformerEncoder(encoder_layers, nlayers)\n",
    "        self.embedding = nn.Embedding(ntoken, d_model)\n",
    "        self.d_model = d_model\n",
    "        self.linear = nn.Linear(d_model, ntoken)\n",
    "\n",
    "        self.init_weights()\n",
    "\n",
    "    def init_weights(self) -> None:\n",
    "        initrange = 0.1\n",
    "        self.embedding.weight.data.uniform_(-initrange, initrange)\n",
    "        self.linear.bias.data.zero_()\n",
    "        self.linear.weight.data.uniform_(-initrange, initrange)\n",
    "\n",
    "    def forward(self, src: torch.Tensor, src_mask: torch.Tensor = None) -> torch.Tensor:\n",
    "        src = self.embedding(src) * math.sqrt(self.d_model)\n",
    "        src = self.pos_encoder(src)\n",
    "        if src_mask is None:\n",
    "            src_mask = nn.Transformer.generate_square_subsequent_mask(len(src))\n",
    "        output = self.transformer_encoder(src, src_mask)\n",
    "        output = self.linear(output)\n",
    "        return output"
   ]
  },
  {
   "cell_type": "code",
   "execution_count": null,
   "metadata": {},
   "outputs": [],
   "source": []
  }
 ],
 "metadata": {
  "kernelspec": {
   "display_name": "3.10",
   "language": "python",
   "name": "python3"
  },
  "language_info": {
   "codemirror_mode": {
    "name": "ipython",
    "version": 3
   },
   "file_extension": ".py",
   "mimetype": "text/x-python",
   "name": "python",
   "nbconvert_exporter": "python",
   "pygments_lexer": "ipython3",
   "version": "3.10.13"
  }
 },
 "nbformat": 4,
 "nbformat_minor": 2
}
