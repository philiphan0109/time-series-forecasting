{
 "cells": [
  {
   "cell_type": "code",
   "execution_count": 1,
   "metadata": {},
   "outputs": [],
   "source": [
    "import pickle\n",
    "import matplotlib.pyplot as plt\n",
    "import numpy as np\n",
    "import os\n",
    "\n",
    "plt.style.use('ggplot')"
   ]
  },
  {
   "cell_type": "code",
   "execution_count": 3,
   "metadata": {},
   "outputs": [],
   "source": [
    "with open('results/no_overlap_single_task.pkl', 'rb') as f:\n",
    "    no_overlap_metrics = pickle.load(f)\n",
    "    single_task_single_shot_metrics = no_overlap_metrics['single_shot']\n",
    "    single_task_ar_metrics = no_overlap_metrics['auto_regressive']\n",
    "\n",
    "with open('results/all_results.pkl', 'rb') as f:\n",
    "    no_overlap_metrics = pickle.load(f)\n",
    "    multi_task_single_shot_metrics = no_overlap_metrics['single_shot']\n",
    "    multi_task_ar_metrics = no_overlap_metrics['auto_regressive']"
   ]
  },
  {
   "cell_type": "code",
   "execution_count": 5,
   "metadata": {},
   "outputs": [],
   "source": [
    "models = ['Single-Task Single-Shot', 'Single-Task Auto-Regressive', 'Multi-Task Single Shot', 'Multi-Task Auto-regressive']\n",
    "loss = [single_task_single_shot_metrics[0], single_task_ar_metrics[0], multi_task_single_shot_metrics[0], multi_task_ar_metrics[0]]\n",
    "rmse = [single_task_single_shot_metrics[1], single_task_ar_metrics[1], multi_task_single_shot_metrics[1], multi_task_ar_metrics[1]]\n",
    "mae = [single_task_single_shot_metrics[2], single_task_ar_metrics[2], multi_task_single_shot_metrics[2], multi_task_ar_metrics[2]]\n",
    "r_squared = [single_task_single_shot_metrics[3], single_task_ar_metrics[3], multi_task_single_shot_metrics[3], multi_task_ar_metrics[3]]\n",
    "\n"
   ]
  },
  {
   "cell_type": "code",
   "execution_count": null,
   "metadata": {},
   "outputs": [],
   "source": []
  }
 ],
 "metadata": {
  "kernelspec": {
   "display_name": "3.10",
   "language": "python",
   "name": "python3"
  },
  "language_info": {
   "codemirror_mode": {
    "name": "ipython",
    "version": 3
   },
   "file_extension": ".py",
   "mimetype": "text/x-python",
   "name": "python",
   "nbconvert_exporter": "python",
   "pygments_lexer": "ipython3",
   "version": "3.10.13"
  }
 },
 "nbformat": 4,
 "nbformat_minor": 2
}
