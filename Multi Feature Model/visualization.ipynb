{
 "cells": [
  {
   "cell_type": "code",
   "execution_count": 1,
   "metadata": {},
   "outputs": [],
   "source": [
    "import pickle\n",
    "import numpy as np\n",
    "import matplotlib.pyplot as plt\n",
    "import random"
   ]
  },
  {
   "cell_type": "code",
   "execution_count": 5,
   "metadata": {},
   "outputs": [
    {
     "name": "stdout",
     "output_type": "stream",
     "text": [
      "Results keys: dict_keys(['single_shot', 'auto_regressive'])\n",
      "Single-shot Results dimensions: [(), (), (), (), (4, 2, 5, 13), (4, 5, 26), (4, 5, 26)]\n",
      "Auto-regressive Results dimensions: [(), (), (), (), (4, 2, 5, 13), (4, 2, 5, 13), (4, 2, 5, 13)]\n"
     ]
    }
   ],
   "source": [
    "with open('results/no_overlap.pkl', 'rb') as file:\n",
    "    results = pickle.load(file)\n",
    "\n",
    "print(\"Results keys:\", results.keys())\n",
    "single_shot_results = results['single_shot']\n",
    "ar_results = results['auto_regressive']\n",
    "\n",
    "# Check dimensions\n",
    "print(\"Single-shot Results dimensions:\", [np.array(x).shape for x in single_shot_results])\n",
    "print(\"Auto-regressive Results dimensions:\", [np.array(x).shape for x in ar_results])"
   ]
  },
  {
   "cell_type": "code",
   "execution_count": 15,
   "metadata": {},
   "outputs": [],
   "source": [
    "def separate_data(data, feature_index=0):\n",
    "    # Convert to numpy array if not already\n",
    "    data = np.array(data)\n",
    "    \n",
    "    # Assuming the second dimension (index 1) represents the feature (temperature, GHG)\n",
    "    temperature_data = data[:, feature_index, :, :]\n",
    "    ghg_data = data[:, 1 - feature_index, :, :]  # Assuming there are only two features\n",
    "    return temperature_data, ghg_data\n"
   ]
  },
  {
   "cell_type": "code",
   "execution_count": 17,
   "metadata": {},
   "outputs": [
    {
     "name": "stdout",
     "output_type": "stream",
     "text": [
      "ss_input_temp shape: (4, 5, 13)\n",
      "ss_input_ghg shape: (4, 5, 13)\n",
      "ss_pred_temp shape: (4, 5, 13)\n",
      "ss_pred_ghg shape: (4, 5, 13)\n",
      "ss_target_temp shape: (4, 5, 13)\n",
      "ss_target_ghg shape: (4, 5, 13)\n"
     ]
    }
   ],
   "source": [
    "# Parse the data for single-shot model\n",
    "ss_inputs, ss_predictions, ss_targets = results['single_shot'][4], results['single_shot'][5], results['single_shot'][6]\n",
    "ss_input_temp, ss_input_ghg = separate_data(ss_inputs)\n",
    "\n",
    "# Convert lists to numpy arrays\n",
    "ss_inputs = np.array(results['single_shot'][4])\n",
    "ss_predictions = np.array(results['single_shot'][5])\n",
    "ss_targets = np.array(results['single_shot'][6])\n",
    "\n",
    "# Separate the data\n",
    "ss_input_temp, ss_input_ghg = separate_data(ss_inputs)\n",
    "ss_pred_temp = ss_predictions[:, :, :13]  # Assuming first 13 features are temperature\n",
    "ss_pred_ghg = ss_predictions[:, :, 13:]   # Assuming next 13 features are GHG emissions\n",
    "ss_target_temp = ss_targets[:, :, :13]\n",
    "ss_target_ghg = ss_targets[:, :, 13:]\n",
    "\n",
    "# Check the dimensions to ensure everything is correct\n",
    "print(\"ss_input_temp shape:\", ss_input_temp.shape)\n",
    "print(\"ss_input_ghg shape:\", ss_input_ghg.shape)\n",
    "print(\"ss_pred_temp shape:\", ss_pred_temp.shape)\n",
    "print(\"ss_pred_ghg shape:\", ss_pred_ghg.shape)\n",
    "print(\"ss_target_temp shape:\", ss_target_temp.shape)\n",
    "print(\"ss_target_ghg shape:\", ss_target_ghg.shape)"
   ]
  },
  {
   "cell_type": "code",
   "execution_count": null,
   "metadata": {},
   "outputs": [],
   "source": []
  }
 ],
 "metadata": {
  "kernelspec": {
   "display_name": "torch",
   "language": "python",
   "name": "python3"
  },
  "language_info": {
   "codemirror_mode": {
    "name": "ipython",
    "version": 3
   },
   "file_extension": ".py",
   "mimetype": "text/x-python",
   "name": "python",
   "nbconvert_exporter": "python",
   "pygments_lexer": "ipython3",
   "version": "3.10.13"
  }
 },
 "nbformat": 4,
 "nbformat_minor": 2
}
