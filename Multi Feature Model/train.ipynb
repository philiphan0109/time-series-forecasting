{
 "cells": [
  {
   "cell_type": "code",
   "execution_count": 2,
   "metadata": {},
   "outputs": [],
   "source": [
    "import pandas as pd\n",
    "import os\n",
    "import pickle\n",
    "\n",
    "from model import Transformer # this is the transformer.py file\n",
    "import torch\n",
    "from torch import nn\n",
    "import numpy as np"
   ]
  },
  {
   "cell_type": "code",
   "execution_count": 16,
   "metadata": {},
   "outputs": [],
   "source": [
    "# Generate some dooky data\n",
    "\n",
    "# temp should be 1 * 120 * 15\n",
    "# precip should be 1 * 120 * 10\n",
    "\n",
    "\n",
    "# Set random seed for reproducibility\n",
    "np.random.seed(0)\n",
    "# Generate input data\n",
    "temp_input = np.random.randn(1, 120, 15)\n",
    "precip_input = np.random.randn(1, 120, 15)\n",
    "combined_input = np.stack([temp_input, precip_input], axis=2)\n",
    "\n",
    "# Generate target data with a smaller time dimension\n",
    "temp_target = np.random.randn(1, 12, 15)\n",
    "precip_target = np.random.randn(1, 12, 15)\n",
    "combined_target = np.stack([temp_target, precip_target], axis=2)\n",
    "\n",
    "combined_input_tensor = torch.tensor(combined_input, dtype=torch.float32)\n",
    "combined_target_tensor = torch.tensor(combined_target, dtype=torch.float32)"
   ]
  },
  {
   "cell_type": "code",
   "execution_count": 17,
   "metadata": {},
   "outputs": [
    {
     "ename": "TypeError",
     "evalue": "'float' object cannot be interpreted as an integer",
     "output_type": "error",
     "traceback": [
      "\u001b[0;31m---------------------------------------------------------------------------\u001b[0m",
      "\u001b[0;31mTypeError\u001b[0m                                 Traceback (most recent call last)",
      "Cell \u001b[0;32mIn[17], line 11\u001b[0m\n\u001b[1;32m      8\u001b[0m drop_prob \u001b[38;5;241m=\u001b[39m \u001b[38;5;241m0.1\u001b[39m\n\u001b[1;32m      9\u001b[0m num_layers \u001b[38;5;241m=\u001b[39m \u001b[38;5;241m1\u001b[39m\n\u001b[0;32m---> 11\u001b[0m transformer \u001b[38;5;241m=\u001b[39m \u001b[43mTransformer\u001b[49m\u001b[43m(\u001b[49m\u001b[43md_model\u001b[49m\u001b[43m,\u001b[49m\u001b[43m \u001b[49m\u001b[43md_temp\u001b[49m\u001b[43m,\u001b[49m\u001b[43m \u001b[49m\u001b[43md_precip\u001b[49m\u001b[43m,\u001b[49m\u001b[43m \u001b[49m\u001b[43mffn_hidden\u001b[49m\u001b[43m,\u001b[49m\u001b[43m \u001b[49m\u001b[43mnum_heads\u001b[49m\u001b[43m,\u001b[49m\u001b[43m \u001b[49m\u001b[43mdrop_prob\u001b[49m\u001b[43m,\u001b[49m\u001b[43m \u001b[49m\u001b[43mnum_layers\u001b[49m\u001b[43m)\u001b[49m\n\u001b[1;32m     14\u001b[0m output \u001b[38;5;241m=\u001b[39m transformer(combined_input_tensor, combined_target_tensor)\n",
      "File \u001b[0;32m~/Documents/GitHub/isef2023/Multi Feature Model/model.py:240\u001b[0m, in \u001b[0;36mTransformer.__init__\u001b[0;34m(self, d_model, d_data, ffn_hidden, num_heads, drop_prob, num_layers, num_encoders)\u001b[0m\n\u001b[1;32m    227\u001b[0m # Full transformer\n\u001b[1;32m    229\u001b[0m class Transformer(nn.Module):\n\u001b[1;32m    230\u001b[0m     def __init__(self,\n\u001b[1;32m    231\u001b[0m                 d_model,\n\u001b[1;32m    232\u001b[0m                 d_temp,\n\u001b[1;32m    233\u001b[0m                 d_precip,\n\u001b[1;32m    234\u001b[0m                 d_out,\n\u001b[1;32m    235\u001b[0m                 ffn_hidden,\n\u001b[1;32m    236\u001b[0m                 num_heads,\n\u001b[1;32m    237\u001b[0m                 drop_prob,\n\u001b[1;32m    238\u001b[0m                 num_layers,\n\u001b[1;32m    239\u001b[0m                 num_encoders = 2\n\u001b[0;32m--> 240\u001b[0m                 ):\n\u001b[1;32m    241\u001b[0m         super().__init__()\n\u001b[1;32m    242\u001b[0m         self.temp_encoder = Encoder(d_model, d_temp, ffn_hidden, num_heads, drop_prob, num_layers)\n",
      "File \u001b[0;32m~/Documents/GitHub/isef2023/Multi Feature Model/model.py:165\u001b[0m, in \u001b[0;36mEncoder.__init__\u001b[0;34m(self, d_model, d_data, ffn_hidden, num_heads, drop_prob, num_layers)\u001b[0m\n\u001b[1;32m    163\u001b[0m \u001b[38;5;28;01mdef\u001b[39;00m \u001b[38;5;21m__init__\u001b[39m(\u001b[38;5;28mself\u001b[39m, d_model, d_data, ffn_hidden, num_heads, drop_prob, num_layers):\n\u001b[1;32m    164\u001b[0m     \u001b[38;5;28msuper\u001b[39m()\u001b[38;5;241m.\u001b[39m\u001b[38;5;21m__init__\u001b[39m()\n\u001b[0;32m--> 165\u001b[0m     \u001b[38;5;28mself\u001b[39m\u001b[38;5;241m.\u001b[39mlayers \u001b[38;5;241m=\u001b[39m nn\u001b[38;5;241m.\u001b[39mSequential(\u001b[38;5;241m*\u001b[39m[EncoderLayer(d_model, d_data, ffn_hidden, num_heads, drop_prob) \u001b[38;5;28;01mfor\u001b[39;00m _ \u001b[38;5;129;01min\u001b[39;00m \u001b[38;5;28;43mrange\u001b[39;49m\u001b[43m(\u001b[49m\u001b[43mnum_layers\u001b[49m\u001b[43m)\u001b[49m])\n",
      "\u001b[0;31mTypeError\u001b[0m: 'float' object cannot be interpreted as an integer"
     ]
    }
   ],
   "source": [
    "# Hyperparameters\n",
    "\n",
    "d_temp = 15\n",
    "d_precip = 15\n",
    "d_model = 15\n",
    "ffn_hidden = 2048\n",
    "num_heads = 5\n",
    "drop_prob = 0.1\n",
    "num_layers = 1\n",
    "\n",
    "transformer = Transformer(d_model, d_temp, d_precip, ffn_hidden, num_heads, drop_prob, num_layers)\n",
    "\n",
    "\n",
    "output = transformer(combined_input_tensor, combined_target_tensor)"
   ]
  },
  {
   "cell_type": "code",
   "execution_count": null,
   "metadata": {},
   "outputs": [],
   "source": []
  }
 ],
 "metadata": {
  "kernelspec": {
   "display_name": "torch",
   "language": "python",
   "name": "python3"
  },
  "language_info": {
   "codemirror_mode": {
    "name": "ipython",
    "version": 3
   },
   "file_extension": ".py",
   "mimetype": "text/x-python",
   "name": "python",
   "nbconvert_exporter": "python",
   "pygments_lexer": "ipython3",
   "version": "3.10.13"
  }
 },
 "nbformat": 4,
 "nbformat_minor": 2
}
