{
 "cells": [
  {
   "cell_type": "code",
   "execution_count": 3,
   "metadata": {},
   "outputs": [],
   "source": [
    "import pandas as pd\n",
    "import os\n",
    "import pickle\n",
    "\n",
    "from model import Transformer # this is the transformer.py file\n",
    "import torch\n",
    "from torch import nn\n",
    "import numpy as np"
   ]
  },
  {
   "cell_type": "code",
   "execution_count": 9,
   "metadata": {},
   "outputs": [
    {
     "data": {
      "text/plain": [
       "<class 'netCDF4._netCDF4.Dataset'>\n",
       "root group (NETCDF3_CLASSIC data model, file format NETCDF3):\n",
       "    title: GPCP 1x1 Precipitation Monitoring\n",
       "    Conventions: CF-1.0\n",
       "    history: CAS Jul 2021\n",
       "    platform: Observation\n",
       "    source: PSL\n",
       "    References: https://www.psl.noaa.gov/data/gridded/data.gpcc.html\n",
       "    Original_Source: http://www.dwd.de/en/FundE/Klima/KLIS/int/GPCC/GPCC.htm\n",
       " is the webpage and the data is at ftp://ftp.dwd.de/pub/data/gpcc/download.html\n",
       "    Reference: Users of the data sets are kindly requested \n",
       "to give feed back and to refer to following GPCC publications:\n",
       "Rudolf, B., H. Hauschild, W. Rueth and U. Schneider (1994)\n",
       ": Terrestrial Precipitation Analysis: Operational Method and Required\n",
       " Density of Point Measurements. In: Global Precipitations and\n",
       " Climate Change (Ed. M. Desbois, F. Desalmond), NATO ASI Series I\n",
       ", Vol. 26, Springer-Verlag, p. 173-186.\n",
       "Rudolf, B., T. Fuchs, U. Schneider and A. Meyer-Christoffer (2003):\n",
       ", Introduction of the Global Precipitation Climatology Centre (GPCC),\n",
       "Deutscher Wetterdienst, Offenbach a.M.; pp. 16,\n",
       "download from GPCC's Website GPCC Homepage: http://gpcc.dwd.de (1994 - 2005)\n",
       "    dataset_title: Global Precipitation Climatology Centre (GPCC)\n",
       "    dimensions(sizes): lon(360), lat(180), nbnds(2), time(502)\n",
       "    variables(dimensions): float32 lat(lat), float32 lon(lon), float64 time(time), float64 time_bnds(time, nbnds), float32 precip(time, lat, lon)\n",
       "    groups: "
      ]
     },
     "execution_count": 9,
     "metadata": {},
     "output_type": "execute_result"
    }
   ],
   "source": [
    "import netCDF4 as nc\n",
    "\n",
    "# Open the .nc file\n",
    "ds = nc.Dataset('data/precipitation_data.nc')\n",
    "\n",
    "ds"
   ]
  },
  {
   "cell_type": "code",
   "execution_count": null,
   "metadata": {},
   "outputs": [],
   "source": []
  }
 ],
 "metadata": {
  "kernelspec": {
   "display_name": "torch",
   "language": "python",
   "name": "python3"
  },
  "language_info": {
   "codemirror_mode": {
    "name": "ipython",
    "version": 3
   },
   "file_extension": ".py",
   "mimetype": "text/x-python",
   "name": "python",
   "nbconvert_exporter": "python",
   "pygments_lexer": "ipython3",
   "version": "3.10.13"
  }
 },
 "nbformat": 4,
 "nbformat_minor": 2
}
