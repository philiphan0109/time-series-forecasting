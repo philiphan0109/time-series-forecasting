{
 "cells": [
  {
   "cell_type": "code",
   "execution_count": 1,
   "metadata": {},
   "outputs": [],
   "source": [
    "import pandas as pd\n",
    "import os\n",
    "import pickle\n",
    "\n",
    "from model import Transformer # this is the transformer.py file\n",
    "import torch\n",
    "from torch import nn\n",
    "import numpy as np"
   ]
  },
  {
   "cell_type": "code",
   "execution_count": 2,
   "metadata": {},
   "outputs": [
    {
     "name": "stdout",
     "output_type": "stream",
     "text": [
      "Padded Greenhouse Gas Data:  (142, 14)\n",
      "Average Annual Temperature Data:  (142, 14)\n"
     ]
    }
   ],
   "source": [
    "from data_processing import create_segments\n",
    "\n",
    "all_ghg_data = pd.read_csv(\"data/total-ghg-emissions.csv\")\n",
    "all_ghg_data.rename(columns={'Year': 'year'}, inplace=True)\n",
    "all_temp_data = pd.read_csv(\"data/processed_data.csv\")\n",
    "all_temp_data = all_temp_data[all_temp_data['year'] != all_temp_data['year'].max()]\n",
    "\n",
    "annual_avg_temp = all_temp_data.groupby('year').mean().reset_index()\n",
    "annual_avg_temp.drop(columns=['Unnamed: 0', 'month'], inplace=True)\n",
    "\n",
    "\n",
    "def pad_features(df, max_features):\n",
    "    additional_cols = max_features - df.shape[1]\n",
    "    for i in range(additional_cols):\n",
    "        df[f'pad_feature_{i}'] = 0\n",
    "    return df\n",
    "\n",
    "max_features = max(all_ghg_data.shape[1], annual_avg_temp.shape[1])\n",
    "all_ghg_data.drop(columns=['Entity', 'Code'], inplace=True)\n",
    "all_ghg_data = pad_features(all_ghg_data, max_features)\n",
    "\n",
    "print(\"Padded Greenhouse Gas Data: \", all_ghg_data.shape)\n",
    "print(\"Average Annual Temperature Data: \", annual_avg_temp.shape)"
   ]
  },
  {
   "cell_type": "code",
   "execution_count": 17,
   "metadata": {},
   "outputs": [
    {
     "name": "stdout",
     "output_type": "stream",
     "text": [
      "GHG Input Segment Shape: (10, 14)\n",
      "Temperature Input Segment Shape: (10, 14)\n",
      "GHG Target Segment Shape: (1, 14)\n",
      "Temperature Target Segment Shape: (1, 14)\n",
      "\n",
      "Combined Input Tensor Shape: torch.Size([132, 2, 10, 13])\n",
      "Combined Target Tensor Shape: torch.Size([132, 2, 1, 13])\n"
     ]
    }
   ],
   "source": [
    "ghg_data_padded, temp_data_padded = all_ghg_data, annual_avg_temp\n",
    "\n",
    "input_years = 10\n",
    "target_years = 1\n",
    "overlapping = True\n",
    "\n",
    "# Segment the data\n",
    "ghg_input_segments, ghg_target_segments = create_segments(ghg_data_padded, input_years, target_years, overlapping)\n",
    "temp_input_segments, temp_target_segments = create_segments(temp_data_padded, input_years, target_years, overlapping)\n",
    "\n",
    "print(\"GHG Input Segment Shape:\", ghg_input_segments[0].shape)\n",
    "print(\"Temperature Input Segment Shape:\", temp_input_segments[0].shape)\n",
    "print(\"GHG Target Segment Shape:\", ghg_target_segments[0].shape)\n",
    "print(\"Temperature Target Segment Shape:\", temp_target_segments[0].shape)\n",
    "\n",
    "# Iterate over the segments, drop 'year', combine and convert to tensors\n",
    "# Temperature data is now at index 0 and GHG data at index 1\n",
    "input_segments_tensors = []\n",
    "target_segments_tensors = []\n",
    "\n",
    "for temp_segment, ghg_segment in zip(temp_input_segments, ghg_input_segments):\n",
    "    temp_tensor = torch.tensor(temp_segment.drop(columns=['year']).values, dtype=torch.float32)\n",
    "    ghg_tensor = torch.tensor(ghg_segment.drop(columns=['year']).values, dtype=torch.float32)\n",
    "    combined_input_tensor = torch.stack((temp_tensor, ghg_tensor), dim=0)\n",
    "    input_segments_tensors.append(combined_input_tensor)\n",
    "\n",
    "for temp_segment, ghg_segment in zip(temp_target_segments, ghg_target_segments):\n",
    "    temp_tensor = torch.tensor(temp_segment.drop(columns=['year']).values, dtype=torch.float32)\n",
    "    ghg_tensor = torch.tensor(ghg_segment.drop(columns=['year']).values, dtype=torch.float32)\n",
    "    combined_target_tensor = torch.stack((temp_tensor, ghg_tensor), dim=0)\n",
    "    target_segments_tensors.append(combined_target_tensor)\n",
    "\n",
    "# Convert lists of combined segments into tensors\n",
    "input_tensors = torch.stack(input_segments_tensors, dim=0)\n",
    "target_tensors = torch.stack(target_segments_tensors, dim=0)\n",
    "\n",
    "print(\"\\nCombined Input Tensor Shape:\", input_tensors.shape)\n",
    "print(\"Combined Target Tensor Shape:\", target_tensors.shape)"
   ]
  },
  {
   "cell_type": "code",
   "execution_count": 18,
   "metadata": {},
   "outputs": [
    {
     "name": "stdout",
     "output_type": "stream",
     "text": [
      "Train Loader Length: 79\n",
      "Validation Loader Length: 26\n",
      "Test Loader Length: 27\n",
      "Input batch shape: torch.Size([1, 2, 10, 13])\n",
      "Target batch shape: torch.Size([1, 2, 1, 13])\n"
     ]
    }
   ],
   "source": [
    "from dataset import TimeSeriesDataset\n",
    "from torch.utils.data import DataLoader, random_split\n",
    "batch_size = 1\n",
    "\n",
    "ts_dataset = TimeSeriesDataset(input_tensors, target_tensors)\n",
    "train_size = int(0.6 * len(ts_dataset))  # e.g., 70% of data for training\n",
    "val_size = int(0.2 * len(ts_dataset))  # 20% of data for validation \n",
    "test_size = len(ts_dataset) - train_size - val_size  # Remaining for testing\n",
    "\n",
    "# Randomly split the dataset into training and validation datasets\n",
    "train_dataset, val_dataset, test_dataset = random_split(ts_dataset, [train_size, val_size, test_size])\n",
    "\n",
    "# Create DataLoaders for both training and validation sets\n",
    "train_loader = DataLoader(train_dataset, batch_size=batch_size, shuffle=True)\n",
    "val_loader = DataLoader(val_dataset, batch_size=batch_size, shuffle=False)  # Usually, no need to shuffle the validation set\n",
    "test_loader = DataLoader(test_dataset, batch_size=batch_size, shuffle=True)\n",
    "\n",
    "print(f\"Train Loader Length: {len(train_loader)}\")\n",
    "print(f\"Validation Loader Length: {len(val_loader)}\")\n",
    "print(f\"Test Loader Length: {len(test_loader)}\")\n",
    "\n",
    "input_batch, target_batch = next(iter(train_loader))\n",
    "\n",
    "# Print the shapes\n",
    "print(f'Input batch shape: {input_batch.shape}')  # e.g., torch.Size([8, 120, 15])\n",
    "print(f'Target batch shape: {target_batch.shape}')  # e.g., torch.Size([8, 12, 15])"
   ]
  },
  {
   "cell_type": "code",
   "execution_count": 4,
   "metadata": {},
   "outputs": [
    {
     "data": {
      "text/plain": [
       "(torch.Size([1, 120, 2, 15]), torch.Size([1, 12, 2, 15]))"
      ]
     },
     "execution_count": 4,
     "metadata": {},
     "output_type": "execute_result"
    }
   ],
   "source": [
    "# Generate some dooky data\n",
    "\n",
    "# temp should be 1 * 120 * 15\n",
    "# precip should be 1 * 120 * 10\n",
    "\n",
    "\n",
    "# Set random seed for reproducibility\n",
    "np.random.seed(0)\n",
    "# Generate input data\n",
    "temp_input = np.random.randn(1, 120, 15)\n",
    "precip_input = np.random.randn(1, 120, 15)\n",
    "combined_input = np.stack([temp_input, precip_input], axis=2)\n",
    "\n",
    "# Generate target data with a smaller time dimension\n",
    "temp_target = np.random.randn(1, 12, 15)\n",
    "precip_target = np.random.randn(1, 12, 15)\n",
    "combined_target = np.stack([temp_target, precip_target], axis=2)\n",
    "\n",
    "combined_input_tensor = torch.tensor(combined_input, dtype=torch.float32)\n",
    "combined_target_tensor = torch.tensor(combined_target, dtype=torch.float32)\n",
    "\n",
    "combined_input_tensor.shape, combined_target_tensor.shape"
   ]
  },
  {
   "cell_type": "code",
   "execution_count": 5,
   "metadata": {},
   "outputs": [
    {
     "name": "stdout",
     "output_type": "stream",
     "text": [
      "torch.Size([1, 12, 30])\n"
     ]
    }
   ],
   "source": [
    "# Hyperparameters\n",
    "\n",
    "d_temp = 15\n",
    "d_ghg = 15\n",
    "d_enc = 15\n",
    "d_dec = 30\n",
    "d_data = 30\n",
    "ffn_hidden = 2048\n",
    "num_heads = 5\n",
    "drop_prob = 0.1\n",
    "num_layers = 1\n",
    "\n",
    "transformer = Transformer(d_enc, d_dec, d_data, d_temp, d_ghg, ffn_hidden, num_heads, drop_prob, num_layers)\n",
    "\n",
    "output = transformer(combined_input_tensor, combined_target_tensor)\n",
    "print(output.shape)"
   ]
  },
  {
   "cell_type": "code",
   "execution_count": null,
   "metadata": {},
   "outputs": [],
   "source": []
  }
 ],
 "metadata": {
  "kernelspec": {
   "display_name": "torch",
   "language": "python",
   "name": "python3"
  },
  "language_info": {
   "codemirror_mode": {
    "name": "ipython",
    "version": 3
   },
   "file_extension": ".py",
   "mimetype": "text/x-python",
   "name": "python",
   "nbconvert_exporter": "python",
   "pygments_lexer": "ipython3",
   "version": "3.10.13"
  }
 },
 "nbformat": 4,
 "nbformat_minor": 2
}
