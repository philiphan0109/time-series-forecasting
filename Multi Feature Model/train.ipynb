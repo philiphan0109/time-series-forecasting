{
 "cells": [
  {
   "cell_type": "code",
   "execution_count": 2,
   "metadata": {},
   "outputs": [],
   "source": [
    "import pandas as pd\n",
    "import os\n",
    "import pickle\n",
    "\n",
    "from model import Transformer # this is the transformer.py file\n",
    "import torch\n",
    "from torch import nn\n",
    "import numpy as np"
   ]
  },
  {
   "cell_type": "code",
   "execution_count": 3,
   "metadata": {},
   "outputs": [
    {
     "data": {
      "text/plain": [
       "(torch.Size([1, 120, 2, 15]), torch.Size([1, 12, 2, 15]))"
      ]
     },
     "execution_count": 3,
     "metadata": {},
     "output_type": "execute_result"
    }
   ],
   "source": [
    "# Generate some dooky data\n",
    "\n",
    "# temp should be 1 * 120 * 15\n",
    "# precip should be 1 * 120 * 10\n",
    "\n",
    "\n",
    "# Set random seed for reproducibility\n",
    "np.random.seed(0)\n",
    "# Generate input data\n",
    "temp_input = np.random.randn(1, 120, 15)\n",
    "precip_input = np.random.randn(1, 120, 15)\n",
    "combined_input = np.stack([temp_input, precip_input], axis=2)\n",
    "\n",
    "# Generate target data with a smaller time dimension\n",
    "temp_target = np.random.randn(1, 12, 15)\n",
    "precip_target = np.random.randn(1, 12, 15)\n",
    "combined_target = np.stack([temp_target, precip_target], axis=2)\n",
    "\n",
    "combined_input_tensor = torch.tensor(combined_input, dtype=torch.float32)\n",
    "combined_target_tensor = torch.tensor(combined_target, dtype=torch.float32)\n",
    "\n",
    "combined_input_tensor.shape, combined_target_tensor.shape"
   ]
  },
  {
   "cell_type": "code",
   "execution_count": 7,
   "metadata": {},
   "outputs": [
    {
     "name": "stdout",
     "output_type": "stream",
     "text": [
      "torch.Size([1, 12, 30])\n"
     ]
    }
   ],
   "source": [
    "# Hyperparameters\n",
    "\n",
    "d_temp = 15\n",
    "d_precip = 15\n",
    "d_enc = 15\n",
    "d_dec = 30\n",
    "d_data = 30\n",
    "ffn_hidden = 2048\n",
    "num_heads = 5\n",
    "drop_prob = 0.1\n",
    "num_layers = 1\n",
    "\n",
    "transformer = Transformer(d_enc, d_dec, d_data, d_temp, d_precip, ffn_hidden, num_heads, drop_prob, num_layers)\n",
    "\n",
    "output = transformer(combined_input_tensor, combined_target_tensor)\n",
    "print(output.shape)"
   ]
  },
  {
   "cell_type": "code",
   "execution_count": null,
   "metadata": {},
   "outputs": [],
   "source": []
  }
 ],
 "metadata": {
  "kernelspec": {
   "display_name": "torch",
   "language": "python",
   "name": "python3"
  },
  "language_info": {
   "codemirror_mode": {
    "name": "ipython",
    "version": 3
   },
   "file_extension": ".py",
   "mimetype": "text/x-python",
   "name": "python",
   "nbconvert_exporter": "python",
   "pygments_lexer": "ipython3",
   "version": "3.10.13"
  }
 },
 "nbformat": 4,
 "nbformat_minor": 2
}
