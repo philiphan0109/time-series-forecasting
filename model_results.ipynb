{
 "cells": [
  {
   "cell_type": "code",
   "execution_count": 26,
   "metadata": {},
   "outputs": [],
   "source": [
    "import pickle\n",
    "import matplotlib.pyplot as plt\n",
    "import numpy as np\n",
    "import os"
   ]
  },
  {
   "cell_type": "code",
   "execution_count": 27,
   "metadata": {},
   "outputs": [],
   "source": [
    "informer_path = \"informer_results\"\n",
    "\n",
    "data = {}\n",
    "for file in os.listdir(informer_path):\n",
    "    file_path = os.path.join(informer_path, file)\n",
    "    data.update({file: np.load(file_path)})"
   ]
  },
  {
   "cell_type": "code",
   "execution_count": 28,
   "metadata": {},
   "outputs": [
    {
     "data": {
      "text/plain": [
       "array([ 0.26411957,  0.13903682,  0.3728764 ,  0.7830462 , 26.688574  ],\n",
       "      dtype=float32)"
      ]
     },
     "execution_count": 28,
     "metadata": {},
     "output_type": "execute_result"
    }
   ],
   "source": [
    "# np.array([mae, mse, rmse, mape, mspe]\n",
    "data[\"metrics.npy\"]"
   ]
  },
  {
   "cell_type": "code",
   "execution_count": 29,
   "metadata": {},
   "outputs": [
    {
     "data": {
      "text/plain": [
       "27"
      ]
     },
     "execution_count": 29,
     "metadata": {},
     "output_type": "execute_result"
    }
   ],
   "source": [
    "len(data[\"pred.npy\"])"
   ]
  },
  {
   "cell_type": "code",
   "execution_count": 31,
   "metadata": {},
   "outputs": [],
   "source": [
    "# Create the dictionary with the required structure\n",
    "test_results = {\n",
    "    'loss': data[\"metrics.npy\"][1],  # MSE as the loss\n",
    "    'rmse': data[\"metrics.npy\"][2],\n",
    "    'mae': data[\"metrics.npy\"][0],\n",
    "    'r_squared': -1,  # R^2 is not provided in the metrics, so using a placeholder\n",
    "    'inputs': data[\"input.npy\"],  # Assuming trues contain the input data\n",
    "    'predictions': data[\"pred.npy\"],\n",
    "    'targets': data[\"true.npy\"]  # Assuming trues contain the target data\n",
    "}\n",
    "\n",
    "# Dump the dictionary into a pickle file\n",
    "with open('informer_results/full_results.pkl', 'wb') as f:\n",
    "    pickle.dump(test_results, f)"
   ]
  },
  {
   "cell_type": "code",
   "execution_count": null,
   "metadata": {},
   "outputs": [],
   "source": []
  }
 ],
 "metadata": {
  "kernelspec": {
   "display_name": "torch",
   "language": "python",
   "name": "python3"
  },
  "language_info": {
   "codemirror_mode": {
    "name": "ipython",
    "version": 3
   },
   "file_extension": ".py",
   "mimetype": "text/x-python",
   "name": "python",
   "nbconvert_exporter": "python",
   "pygments_lexer": "ipython3",
   "version": "3.10.13"
  }
 },
 "nbformat": 4,
 "nbformat_minor": 2
}
