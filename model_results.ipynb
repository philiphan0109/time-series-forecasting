{
 "cells": [
  {
   "cell_type": "code",
   "execution_count": 2,
   "metadata": {},
   "outputs": [],
   "source": [
    "import pickle\n",
    "import matplotlib.pyplot as plt\n",
    "import numpy as np\n",
    "import os"
   ]
  },
  {
   "cell_type": "code",
   "execution_count": 10,
   "metadata": {},
   "outputs": [],
   "source": [
    "informer_path = \"informer_results\"\n",
    "\n",
    "data = {}\n",
    "for file in os.listdir(informer_path):\n",
    "    file_path = os.path.join(informer_path, file)\n",
    "    data.update({file: np.load(file_path)})"
   ]
  },
  {
   "cell_type": "code",
   "execution_count": 11,
   "metadata": {},
   "outputs": [
    {
     "data": {
      "text/plain": [
       "array([ 0.26226857,  0.15749563,  0.3968572 ,  0.79061294, 32.155914  ],\n",
       "      dtype=float32)"
      ]
     },
     "execution_count": 11,
     "metadata": {},
     "output_type": "execute_result"
    }
   ],
   "source": [
    "# np.array([mae, mse, rmse, mape, mspe]\n",
    "data[\"metrics.npy\"]"
   ]
  },
  {
   "cell_type": "code",
   "execution_count": 18,
   "metadata": {},
   "outputs": [
    {
     "data": {
      "text/plain": [
       "15"
      ]
     },
     "execution_count": 18,
     "metadata": {},
     "output_type": "execute_result"
    }
   ],
   "source": [
    "len(data[\"pred.npy\"])"
   ]
  },
  {
   "cell_type": "code",
   "execution_count": 14,
   "metadata": {},
   "outputs": [],
   "source": [
    "# Create the dictionary with the required structure\n",
    "test_results = {\n",
    "    'loss': data[\"metrics.npy\"][1],  # MSE as the loss\n",
    "    'rmse': data[\"metrics.npy\"][2],\n",
    "    'mae': data[\"metrics.npy\"][0],\n",
    "    'r_squared': -1,  # R^2 is not provided in the metrics, so using a placeholder\n",
    "    'inputs': data[\"inputs.npy\"],  # Assuming trues contain the input data\n",
    "    'predictions': data[\"pred.npy\"],\n",
    "    'targets': data[\"true.npy\"]  # Assuming trues contain the target data\n",
    "}\n",
    "\n",
    "# Dump the dictionary into a pickle file\n",
    "with open('test_results.pkl', 'wb') as f:\n",
    "    pickle.dump(test_results, f)"
   ]
  },
  {
   "cell_type": "code",
   "execution_count": null,
   "metadata": {},
   "outputs": [],
   "source": []
  }
 ],
 "metadata": {
  "kernelspec": {
   "display_name": "torch",
   "language": "python",
   "name": "python3"
  },
  "language_info": {
   "codemirror_mode": {
    "name": "ipython",
    "version": 3
   },
   "file_extension": ".py",
   "mimetype": "text/x-python",
   "name": "python",
   "nbconvert_exporter": "python",
   "pygments_lexer": "ipython3",
   "version": "3.10.13"
  }
 },
 "nbformat": 4,
 "nbformat_minor": 2
}
